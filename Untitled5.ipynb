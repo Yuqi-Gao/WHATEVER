{
  "nbformat": 4,
  "nbformat_minor": 0,
  "metadata": {
    "colab": {
      "name": "Untitled5.ipynb",
      "provenance": [],
      "authorship_tag": "ABX9TyP3ozXgwoGsfXa9td/xftMm",
      "include_colab_link": true
    },
    "kernelspec": {
      "name": "python3",
      "display_name": "Python 3"
    }
  },
  "cells": [
    {
      "cell_type": "markdown",
      "metadata": {
        "id": "view-in-github",
        "colab_type": "text"
      },
      "source": [
        "<a href=\"https://colab.research.google.com/github/Yuqi-Gao/WHATEVER/blob/main/Untitled5.ipynb\" target=\"_parent\"><img src=\"https://colab.research.google.com/assets/colab-badge.svg\" alt=\"Open In Colab\"/></a>"
      ]
    },
    {
      "cell_type": "code",
      "metadata": {
        "colab": {
          "base_uri": "https://localhost:8080/"
        },
        "id": "FNATkfTfVA0i",
        "outputId": "d8781cde-73df-4399-db3c-e80e32fdd4b9"
      },
      "source": [
        "!pip install pyPDF2\r\n",
        "import urllib.request \r\n",
        "from PyPDF2 import PdfFileWriter, PdfFileReader\r\n",
        "import requests\r\n",
        "\r\n",
        "url = 'https://www.jacobusvandijk.nl/docs/OfE_275-278.pdf'\r\n",
        "\r\n",
        "urllib.request.urlretrieve(url, \"filename.pdf\")\r\n",
        "\r\n",
        "#f = urllib.request.urlopen(\"https://raw.githubusercontent.com/CSSEGISandData/COVID-19/master/csse_covid_19_data/csse_covid_19_time_series/time_series_covid19_confirmed_global.csv\")"
      ],
      "execution_count": 5,
      "outputs": [
        {
          "output_type": "stream",
          "text": [
            "Requirement already satisfied: pyPDF2 in /usr/local/lib/python3.7/dist-packages (1.26.0)\n"
          ],
          "name": "stdout"
        },
        {
          "output_type": "execute_result",
          "data": {
            "text/plain": [
              "('filename.pdf', <http.client.HTTPMessage at 0x7fb1c7da1d10>)"
            ]
          },
          "metadata": {
            "tags": []
          },
          "execution_count": 5
        }
      ]
    },
    {
      "cell_type": "code",
      "metadata": {
        "colab": {
          "base_uri": "https://localhost:8080/"
        },
        "id": "g6zNeY_6UFNw",
        "outputId": "72141547-26c8-485e-bdb5-9ed86ae69520"
      },
      "source": [
        "!pip install PyMuPDF\r\n"
      ],
      "execution_count": 6,
      "outputs": [
        {
          "output_type": "stream",
          "text": [
            "Requirement already satisfied: PyMuPDF in /usr/local/lib/python3.7/dist-packages (1.18.8)\n"
          ],
          "name": "stdout"
        }
      ]
    },
    {
      "cell_type": "code",
      "metadata": {
        "id": "UE9gGag0U_JX",
        "colab": {
          "base_uri": "https://localhost:8080/"
        },
        "outputId": "915e6547-49c9-4f5f-8ece-3adf239b8670"
      },
      "source": [
        "import fitz\r\n",
        "doc = fitz.open(\"filename.pdf\")\r\n",
        "for i in range(len(doc)):\r\n",
        "    for img in doc.getPageImageList(i):\r\n",
        "        xref = img[0]\r\n",
        "        pix = fitz.Pixmap(doc, xref)\r\n",
        "        if pix.n < 1:       # this is GRAY or RGB\r\n",
        "            pix.writePNG(\"p%s-%s.png\" % (i, xref))\r\n",
        "        else:               # CMYK: convert to RGB first\r\n",
        "            pix1 = fitz.Pixmap(fitz.csRGB, pix)\r\n",
        "            pix1.writePNG(\"p%s-%s.png\" % (i, xref))\r\n",
        "            pix1 = None\r\n",
        "        pix = None"
      ],
      "execution_count": 11,
      "outputs": [
        {
          "output_type": "stream",
          "text": [
            "mupdf: cannot find object in xref (1896 0 R)\n",
            "mupdf: cannot find object in xref (1891 0 R)\n",
            "mupdf: cannot find object in xref (1886 0 R)\n",
            "mupdf: cannot find object in xref (1881 0 R)\n",
            "mupdf: cannot find object in xref (1876 0 R)\n",
            "mupdf: cannot find object in xref (1871 0 R)\n",
            "mupdf: cannot find object in xref (1866 0 R)\n",
            "mupdf: cannot find object in xref (1861 0 R)\n",
            "mupdf: cannot find object in xref (1856 0 R)\n",
            "mupdf: cannot find object in xref (1851 0 R)\n",
            "mupdf: cannot find object in xref (1846 0 R)\n",
            "mupdf: cannot find object in xref (1841 0 R)\n",
            "mupdf: cannot find object in xref (1836 0 R)\n",
            "mupdf: cannot find object in xref (1831 0 R)\n",
            "mupdf: cannot find object in xref (1826 0 R)\n",
            "mupdf: cannot find object in xref (1821 0 R)\n",
            "mupdf: cannot find object in xref (1816 0 R)\n",
            "mupdf: cannot find object in xref (1811 0 R)\n",
            "mupdf: cannot find object in xref (1806 0 R)\n",
            "mupdf: cannot find object in xref (1801 0 R)\n",
            "mupdf: cannot find object in xref (1796 0 R)\n",
            "mupdf: cannot find object in xref (1791 0 R)\n",
            "mupdf: cannot find object in xref (1786 0 R)\n",
            "mupdf: cannot find object in xref (1781 0 R)\n",
            "mupdf: cannot find object in xref (1776 0 R)\n",
            "mupdf: cannot find object in xref (1771 0 R)\n",
            "mupdf: cannot find object in xref (1766 0 R)\n",
            "mupdf: cannot find object in xref (1761 0 R)\n",
            "mupdf: cannot find object in xref (1756 0 R)\n",
            "mupdf: cannot find object in xref (1751 0 R)\n",
            "mupdf: cannot find object in xref (1746 0 R)\n",
            "mupdf: cannot find object in xref (1741 0 R)\n",
            "mupdf: cannot find object in xref (1704 0 R)\n",
            "mupdf: cannot find object in xref (1699 0 R)\n",
            "mupdf: cannot find object in xref (1694 0 R)\n",
            "mupdf: cannot find object in xref (1689 0 R)\n",
            "mupdf: cannot find object in xref (1684 0 R)\n",
            "mupdf: cannot find object in xref (1679 0 R)\n",
            "mupdf: cannot find object in xref (1674 0 R)\n",
            "mupdf: cannot find object in xref (1669 0 R)\n",
            "mupdf: cannot find object in xref (1664 0 R)\n",
            "mupdf: cannot find object in xref (1659 0 R)\n",
            "mupdf: cannot find object in xref (1654 0 R)\n",
            "mupdf: cannot find object in xref (1649 0 R)\n",
            "mupdf: cannot find object in xref (1644 0 R)\n",
            "mupdf: cannot find object in xref (1639 0 R)\n",
            "mupdf: cannot find object in xref (1634 0 R)\n",
            "mupdf: cannot find object in xref (1629 0 R)\n",
            "mupdf: cannot find object in xref (1624 0 R)\n",
            "mupdf: cannot find object in xref (1619 0 R)\n",
            "mupdf: cannot find object in xref (1614 0 R)\n",
            "mupdf: cannot find object in xref (1609 0 R)\n",
            "mupdf: cannot find object in xref (1604 0 R)\n",
            "mupdf: cannot find object in xref (1599 0 R)\n",
            "mupdf: cannot find object in xref (1594 0 R)\n",
            "mupdf: cannot find object in xref (1589 0 R)\n",
            "mupdf: cannot find object in xref (1584 0 R)\n",
            "mupdf: cannot find object in xref (1579 0 R)\n",
            "mupdf: cannot find object in xref (1574 0 R)\n",
            "mupdf: cannot find object in xref (1569 0 R)\n",
            "mupdf: cannot find object in xref (1564 0 R)\n",
            "mupdf: cannot find object in xref (1559 0 R)\n",
            "mupdf: cannot find object in xref (1554 0 R)\n",
            "mupdf: cannot find object in xref (1549 0 R)\n",
            "mupdf: cannot find object in xref (1512 0 R)\n",
            "mupdf: cannot find object in xref (1507 0 R)\n",
            "mupdf: cannot find object in xref (1502 0 R)\n",
            "mupdf: cannot find object in xref (1497 0 R)\n",
            "mupdf: cannot find object in xref (1492 0 R)\n",
            "mupdf: cannot find object in xref (1487 0 R)\n",
            "mupdf: cannot find object in xref (1482 0 R)\n",
            "mupdf: cannot find object in xref (1477 0 R)\n",
            "mupdf: cannot find object in xref (1472 0 R)\n",
            "mupdf: cannot find object in xref (1467 0 R)\n",
            "mupdf: cannot find object in xref (1462 0 R)\n",
            "mupdf: cannot find object in xref (1457 0 R)\n",
            "mupdf: cannot find object in xref (1452 0 R)\n",
            "mupdf: cannot find object in xref (1447 0 R)\n",
            "mupdf: cannot find object in xref (1442 0 R)\n",
            "mupdf: cannot find object in xref (1437 0 R)\n",
            "mupdf: cannot find object in xref (1432 0 R)\n",
            "mupdf: cannot find object in xref (1427 0 R)\n",
            "mupdf: cannot find object in xref (1422 0 R)\n",
            "mupdf: cannot find object in xref (1417 0 R)\n",
            "mupdf: cannot find object in xref (1412 0 R)\n",
            "mupdf: cannot find object in xref (1407 0 R)\n",
            "mupdf: cannot find object in xref (1402 0 R)\n",
            "mupdf: cannot find object in xref (1397 0 R)\n",
            "mupdf: cannot find object in xref (1392 0 R)\n",
            "mupdf: cannot find object in xref (1387 0 R)\n",
            "mupdf: cannot find object in xref (1382 0 R)\n",
            "mupdf: cannot find object in xref (1377 0 R)\n",
            "mupdf: cannot find object in xref (1372 0 R)\n",
            "mupdf: cannot find object in xref (1367 0 R)\n",
            "mupdf: cannot find object in xref (1362 0 R)\n",
            "mupdf: cannot find object in xref (1357 0 R)\n",
            "mupdf: cannot find object in xref (1320 0 R)\n",
            "mupdf: cannot find object in xref (1315 0 R)\n",
            "mupdf: cannot find object in xref (1310 0 R)\n",
            "mupdf: cannot find object in xref (1305 0 R)\n",
            "mupdf: cannot find object in xref (1300 0 R)\n",
            "mupdf: cannot find object in xref (1295 0 R)\n",
            "mupdf: cannot find object in xref (1290 0 R)\n",
            "mupdf: cannot find object in xref (1285 0 R)\n",
            "mupdf: cannot find object in xref (1280 0 R)\n",
            "mupdf: cannot find object in xref (1275 0 R)\n",
            "mupdf: cannot find object in xref (1270 0 R)\n",
            "mupdf: cannot find object in xref (1265 0 R)\n",
            "mupdf: cannot find object in xref (1260 0 R)\n",
            "mupdf: cannot find object in xref (1255 0 R)\n",
            "mupdf: cannot find object in xref (1250 0 R)\n",
            "mupdf: cannot find object in xref (1245 0 R)\n",
            "mupdf: cannot find object in xref (1240 0 R)\n",
            "mupdf: cannot find object in xref (1235 0 R)\n",
            "mupdf: cannot find object in xref (1230 0 R)\n",
            "mupdf: cannot find object in xref (1225 0 R)\n",
            "mupdf: cannot find object in xref (1220 0 R)\n",
            "mupdf: cannot find object in xref (1215 0 R)\n",
            "mupdf: cannot find object in xref (1210 0 R)\n",
            "mupdf: cannot find object in xref (1205 0 R)\n",
            "mupdf: cannot find object in xref (1200 0 R)\n",
            "mupdf: cannot find object in xref (1195 0 R)\n",
            "mupdf: cannot find object in xref (1190 0 R)\n",
            "mupdf: cannot find object in xref (1185 0 R)\n",
            "mupdf: cannot find object in xref (1180 0 R)\n",
            "mupdf: cannot find object in xref (1175 0 R)\n",
            "mupdf: cannot find object in xref (1170 0 R)\n",
            "mupdf: cannot find object in xref (1165 0 R)\n",
            "mupdf: cannot find object in xref (1128 0 R)\n",
            "mupdf: cannot find object in xref (1123 0 R)\n",
            "mupdf: cannot find object in xref (1118 0 R)\n",
            "mupdf: cannot find object in xref (1113 0 R)\n",
            "mupdf: cannot find object in xref (1108 0 R)\n",
            "mupdf: cannot find object in xref (1103 0 R)\n",
            "mupdf: cannot find object in xref (1098 0 R)\n",
            "mupdf: cannot find object in xref (1093 0 R)\n",
            "mupdf: cannot find object in xref (1088 0 R)\n",
            "mupdf: cannot find object in xref (1083 0 R)\n",
            "mupdf: cannot find object in xref (1078 0 R)\n",
            "mupdf: cannot find object in xref (1073 0 R)\n",
            "mupdf: cannot find object in xref (1068 0 R)\n",
            "mupdf: cannot find object in xref (1063 0 R)\n",
            "mupdf: cannot find object in xref (1058 0 R)\n",
            "mupdf: cannot find object in xref (1053 0 R)\n",
            "mupdf: cannot find object in xref (1048 0 R)\n",
            "mupdf: cannot find object in xref (1043 0 R)\n",
            "mupdf: cannot find object in xref (1038 0 R)\n",
            "mupdf: cannot find object in xref (1033 0 R)\n",
            "mupdf: cannot find object in xref (1028 0 R)\n",
            "mupdf: cannot find object in xref (1023 0 R)\n",
            "mupdf: cannot find object in xref (1018 0 R)\n",
            "mupdf: cannot find object in xref (1013 0 R)\n",
            "mupdf: cannot find object in xref (1008 0 R)\n",
            "mupdf: cannot find object in xref (1003 0 R)\n",
            "mupdf: cannot find object in xref (998 0 R)\n",
            "mupdf: cannot find object in xref (993 0 R)\n",
            "mupdf: cannot find object in xref (988 0 R)\n",
            "mupdf: cannot find object in xref (983 0 R)\n",
            "mupdf: cannot find object in xref (978 0 R)\n",
            "mupdf: cannot find object in xref (973 0 R)\n",
            "mupdf: cannot find object in xref (936 0 R)\n",
            "mupdf: cannot find object in xref (931 0 R)\n",
            "mupdf: cannot find object in xref (926 0 R)\n",
            "mupdf: cannot find object in xref (921 0 R)\n",
            "mupdf: cannot find object in xref (916 0 R)\n",
            "mupdf: cannot find object in xref (911 0 R)\n",
            "mupdf: cannot find object in xref (906 0 R)\n",
            "mupdf: cannot find object in xref (901 0 R)\n",
            "mupdf: cannot find object in xref (896 0 R)\n",
            "mupdf: cannot find object in xref (891 0 R)\n",
            "mupdf: cannot find object in xref (886 0 R)\n",
            "mupdf: cannot find object in xref (881 0 R)\n",
            "mupdf: cannot find object in xref (876 0 R)\n",
            "mupdf: cannot find object in xref (871 0 R)\n",
            "mupdf: cannot find object in xref (866 0 R)\n",
            "mupdf: cannot find object in xref (861 0 R)\n",
            "mupdf: cannot find object in xref (856 0 R)\n",
            "mupdf: cannot find object in xref (851 0 R)\n",
            "mupdf: cannot find object in xref (846 0 R)\n",
            "mupdf: cannot find object in xref (841 0 R)\n",
            "mupdf: cannot find object in xref (836 0 R)\n",
            "mupdf: cannot find object in xref (831 0 R)\n",
            "mupdf: cannot find object in xref (826 0 R)\n",
            "mupdf: cannot find object in xref (821 0 R)\n",
            "mupdf: cannot find object in xref (816 0 R)\n",
            "mupdf: cannot find object in xref (811 0 R)\n",
            "mupdf: cannot find object in xref (806 0 R)\n",
            "mupdf: cannot find object in xref (801 0 R)\n",
            "mupdf: cannot find object in xref (796 0 R)\n",
            "mupdf: cannot find object in xref (791 0 R)\n",
            "mupdf: cannot find object in xref (786 0 R)\n",
            "mupdf: cannot find object in xref (781 0 R)\n",
            "mupdf: cannot find object in xref (744 0 R)\n",
            "mupdf: cannot find object in xref (739 0 R)\n",
            "mupdf: cannot find object in xref (734 0 R)\n",
            "mupdf: cannot find object in xref (729 0 R)\n",
            "mupdf: cannot find object in xref (724 0 R)\n",
            "mupdf: cannot find object in xref (719 0 R)\n",
            "mupdf: cannot find object in xref (714 0 R)\n",
            "mupdf: cannot find object in xref (709 0 R)\n",
            "mupdf: cannot find object in xref (704 0 R)\n",
            "mupdf: cannot find object in xref (699 0 R)\n",
            "mupdf: cannot find object in xref (694 0 R)\n",
            "mupdf: cannot find object in xref (689 0 R)\n",
            "mupdf: cannot find object in xref (684 0 R)\n",
            "mupdf: cannot find object in xref (679 0 R)\n",
            "mupdf: cannot find object in xref (674 0 R)\n",
            "mupdf: cannot find object in xref (669 0 R)\n",
            "mupdf: cannot find object in xref (664 0 R)\n",
            "mupdf: cannot find object in xref (659 0 R)\n",
            "mupdf: cannot find object in xref (654 0 R)\n",
            "mupdf: cannot find object in xref (649 0 R)\n",
            "mupdf: cannot find object in xref (644 0 R)\n",
            "mupdf: cannot find object in xref (639 0 R)\n",
            "mupdf: cannot find object in xref (634 0 R)\n",
            "mupdf: cannot find object in xref (629 0 R)\n",
            "mupdf: cannot find object in xref (624 0 R)\n",
            "mupdf: cannot find object in xref (619 0 R)\n",
            "mupdf: cannot find object in xref (614 0 R)\n",
            "mupdf: cannot find object in xref (609 0 R)\n",
            "mupdf: cannot find object in xref (604 0 R)\n",
            "mupdf: cannot find object in xref (599 0 R)\n",
            "mupdf: cannot find object in xref (594 0 R)\n",
            "mupdf: cannot find object in xref (589 0 R)\n",
            "mupdf: cannot find object in xref (552 0 R)\n",
            "mupdf: cannot find object in xref (547 0 R)\n",
            "mupdf: cannot find object in xref (542 0 R)\n",
            "mupdf: cannot find object in xref (537 0 R)\n",
            "mupdf: cannot find object in xref (532 0 R)\n",
            "mupdf: cannot find object in xref (527 0 R)\n",
            "mupdf: cannot find object in xref (522 0 R)\n",
            "mupdf: cannot find object in xref (517 0 R)\n",
            "mupdf: cannot find object in xref (512 0 R)\n",
            "mupdf: cannot find object in xref (507 0 R)\n",
            "mupdf: cannot find object in xref (502 0 R)\n",
            "mupdf: cannot find object in xref (497 0 R)\n",
            "mupdf: cannot find object in xref (492 0 R)\n",
            "mupdf: cannot find object in xref (487 0 R)\n",
            "mupdf: cannot find object in xref (482 0 R)\n",
            "mupdf: cannot find object in xref (477 0 R)\n",
            "mupdf: cannot find object in xref (472 0 R)\n",
            "mupdf: cannot find object in xref (467 0 R)\n",
            "mupdf: cannot find object in xref (462 0 R)\n",
            "mupdf: cannot find object in xref (457 0 R)\n",
            "mupdf: cannot find object in xref (452 0 R)\n",
            "mupdf: cannot find object in xref (447 0 R)\n",
            "mupdf: cannot find object in xref (442 0 R)\n",
            "mupdf: cannot find object in xref (437 0 R)\n",
            "mupdf: cannot find object in xref (432 0 R)\n",
            "mupdf: cannot find object in xref (427 0 R)\n",
            "mupdf: cannot find object in xref (422 0 R)\n",
            "mupdf: cannot find object in xref (417 0 R)\n",
            "mupdf: cannot find object in xref (412 0 R)\n",
            "mupdf: cannot find object in xref (407 0 R)\n",
            "mupdf: cannot find object in xref (402 0 R)\n",
            "mupdf: cannot find object in xref (397 0 R)\n",
            "mupdf: cannot find object in xref (392 0 R)\n",
            "mupdf: cannot find object in xref (387 0 R)\n",
            "mupdf: cannot find object in xref (382 0 R)\n",
            "mupdf: cannot find object in xref (377 0 R)\n",
            "mupdf: cannot find object in xref (372 0 R)\n",
            "mupdf: cannot find object in xref (367 0 R)\n",
            "mupdf: cannot find object in xref (362 0 R)\n",
            "mupdf: cannot find object in xref (357 0 R)\n",
            "mupdf: cannot find object in xref (352 0 R)\n",
            "mupdf: cannot find object in xref (347 0 R)\n",
            "mupdf: cannot find object in xref (342 0 R)\n",
            "mupdf: cannot find object in xref (337 0 R)\n",
            "mupdf: cannot find object in xref (332 0 R)\n",
            "mupdf: cannot find object in xref (327 0 R)\n",
            "mupdf: cannot find object in xref (322 0 R)\n",
            "mupdf: cannot find object in xref (317 0 R)\n",
            "mupdf: cannot find object in xref (312 0 R)\n",
            "mupdf: cannot find object in xref (307 0 R)\n",
            "mupdf: cannot find object in xref (80 0 R)\n",
            "mupdf: cannot find object in xref (75 0 R)\n"
          ],
          "name": "stderr"
        }
      ]
    },
    {
      "cell_type": "code",
      "metadata": {
        "id": "-Ig5jKgXvPM6"
      },
      "source": [
        "from PIL import Image\r\n",
        "image_file = Image.open(\"p2-146.png\") # open colour image\r\n",
        "image_file = image_file.convert('1') # convert image to black and white\r\n",
        "image_file.save('result2.png')\r\n",
        "\r\n"
      ],
      "execution_count": 48,
      "outputs": []
    },
    {
      "cell_type": "code",
      "metadata": {
        "id": "K-492JI9x7Zm"
      },
      "source": [
        "img = Image.open('p2-146.png')\r\n",
        "thresh = 200\r\n",
        "fn = lambda x : 255 if x > thresh else 0\r\n",
        "r = img.convert('L').point(fn, mode='1')\r\n",
        "r.save('foo.png')"
      ],
      "execution_count": 49,
      "outputs": []
    },
    {
      "cell_type": "code",
      "metadata": {
        "id": "wA5p8vYV0n7f"
      },
      "source": [
        "pix1 = fitz.Pixmap(doc, xref)     # pixmap without alpha channel\r\n",
        "#pix2 = fitz.Pixmap(doc, smask)    # this contains the alpha values in its samples\r\n",
        "pix3 = fitz.Pixmap(pix1)     # copy of pix1 with alpha channel added (new constructor)\r\n",
        "#pix3.setAlpha(pix2.samples)     # fill its alpha values with pix2 samples (new method)\r\n",
        "pix3.writePNG(\"Im2.png\")"
      ],
      "execution_count": 46,
      "outputs": []
    },
    {
      "cell_type": "code",
      "metadata": {
        "id": "93nAyg6O1i7H"
      },
      "source": [
        "!rm *.png"
      ],
      "execution_count": 4,
      "outputs": []
    },
    {
      "cell_type": "code",
      "metadata": {
        "id": "Arpy7KZf_RnL"
      },
      "source": [
        "!mv /content/*png  /content/test"
      ],
      "execution_count": 24,
      "outputs": []
    }
  ]
}